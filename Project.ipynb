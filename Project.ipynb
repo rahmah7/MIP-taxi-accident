import numpy as np
import matplotlib.pyplot as plt

# Example 1: Simulate a Simple Probability Experiment (e.g., Rolling a Die)
def roll_die():
    return np.random.randint(1, 7)

# Simulate rolling a die 10000 times
rolls = [roll_die() for _ in range(10000)]

# Compute probabilities
probabilities = {i: rolls.count(i)/10000 for i in range(1, 7)}
print("Probabilities of each number on a die:", probabilities)

# Example 2: Conditional Probability - Given Data of a Taxi Accident
# Suppose we have a dataset with information about whether a taxi was involved in an accident
# We can compute conditional probabilities like P(Accident | Taxi Type) or P(Taxi Type | Accident)

# Example Data (0 = No, 1 = Yes for each condition)
taxi_accidents = np.array([[1, 0], [1, 1], [0, 1], [1, 1], [0, 0], [1, 0], [0, 1]])

# Compute conditional probabilities
accident = taxi_accidents[:, 1] == 1
taxi = taxi_accidents[:, 0] == 1

# P(Accident | Taxi)
p_accident_given_taxi = np.sum(accident & taxi) / np.sum(taxi)
print("P(Accident | Taxi):", p_accident_given_taxi)

# P(Taxi | Accident)
p_taxi_given_accident = np.sum(accident & taxi) / np.sum(accident)
print("P(Taxi | Accident):", p_taxi_given_accident)

# Example 3: Probability Distribution and Visualization
# Simulate a simple probability distribution (e.g., probabilities of heads in a coin toss)
def simulate_coin_tosses(num_tosses):
    return np.random.choice(['Heads', 'Tails'], num_tosses)

# Simulate 10000 coin tosses
tosses = simulate_coin_tosses(10000)

# Plot the result
plt.figure(figsize=(6, 4))
plt.hist(tosses, bins=2, edgecolor='black', alpha=0.7)
plt.title("Coin Toss Results")
plt.xlabel("Outcome")
plt.ylabel("Frequency")
plt.xticks(['Heads', 'Tails'])
plt.show()

# Example 4: Use Bayesian Inference for Taxi Accident Data
# Suppose we know the prior probabilities and likelihoods:
p_taxi = 0.4  # 40% of the taxis
p_accident_given_taxi = 0.2  # 20% of taxis have an accident
p_accident_given_no_taxi = 0.1  # 10% of non-taxis have an accident

# Use Bayes' Theorem to compute the posterior probability
# P(Taxi | Accident) = (P(Accident | Taxi) * P(Taxi)) / P(Accident)

p_accident = p_taxi * p_accident_given_taxi + (1 - p_taxi) * p_accident_given_no_taxi  # Total probability of an accident
p_taxi_given_accident = (p_accident_given_taxi * p_taxi) / p_accident
print("Posterior Probability P(Taxi | Accident):", p_taxi_given_accident)
